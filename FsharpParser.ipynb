{
 "cells": [
  {
   "cell_type": "code",
   "execution_count": 1,
   "metadata": {
    "dotnet_interactive": {
     "language": "fsharp"
    },
    "polyglot_notebook": {
     "kernelName": "fsharp"
    }
   },
   "outputs": [
    {
     "data": {
      "text/html": [
       "<div><div></div><div></div><div><strong>Installed Packages</strong><ul><li><span>FParsec, 1.1.1</span></li></ul></div></div>"
      ]
     },
     "metadata": {},
     "output_type": "display_data"
    }
   ],
   "source": [
    "#r \"nuget: FParsec\"\n",
    "open FParsec"
   ]
  },
  {
   "cell_type": "code",
   "execution_count": 2,
   "metadata": {
    "dotnet_interactive": {
     "language": "fsharp"
    },
    "polyglot_notebook": {
     "kernelName": "fsharp"
    }
   },
   "outputs": [
    {
     "name": "stdout",
     "output_type": "stream",
     "text": [
      "Success: \"one\"\n"
     ]
    }
   ],
   "source": [
    "let searchTerm =\n",
    "    many1Chars (noneOf \" \")\n",
    "\n",
    "printfn \"%A\" (run searchTerm \"one two three\")"
   ]
  },
  {
   "cell_type": "code",
   "execution_count": 26,
   "metadata": {
    "dotnet_interactive": {
     "language": "fsharp"
    },
    "polyglot_notebook": {
     "kernelName": "fsharp"
    }
   },
   "outputs": [
    {
     "name": "stdout",
     "output_type": "stream",
     "text": [
      "Success: [\"one\"; \"two\"; \"three\"]\n",
      "Success: [\"one\"; \"two\"; \"three\"]\n",
      "Success: []\n"
     ]
    }
   ],
   "source": [
    "let searchParser =\n",
    "    many (searchTerm .>> spaces)\n",
    "\n",
    "printfn \"%A\" (run searchParser \"one two three\")\n",
    "printfn \"%A\" (run searchParser \"one   two   three\")\n",
    "printfn \"%A\" (run searchParser \"   one two three   \")"
   ]
  },
  {
   "cell_type": "code",
   "execution_count": 27,
   "metadata": {
    "dotnet_interactive": {
     "language": "fsharp"
    },
    "polyglot_notebook": {
     "kernelName": "fsharp"
    }
   },
   "outputs": [
    {
     "name": "stdout",
     "output_type": "stream",
     "text": [
      "Success: [\"one\"; \"two\"; \"three\"]\n"
     ]
    }
   ],
   "source": [
    "let searchQuery =\n",
    "  spaces >>. searchParser .>> eof\n",
    "\n",
    "printfn \"%A\" (run searchQuery \"   one     two    three   \")\n"
   ]
  }
 ],
 "metadata": {
  "kernelspec": {
   "display_name": ".NET (C#)",
   "language": "C#",
   "name": ".net-csharp"
  },
  "polyglot_notebook": {
   "kernelInfo": {
    "defaultKernelName": "csharp",
    "items": [
     {
      "aliases": [],
      "name": "csharp"
     }
    ]
   }
  }
 },
 "nbformat": 4,
 "nbformat_minor": 2
}
